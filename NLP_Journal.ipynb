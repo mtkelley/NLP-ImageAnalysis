{
 "cells": [
  {
   "cell_type": "code",
   "execution_count": null,
   "metadata": {},
   "outputs": [],
   "source": [
    "import re\n",
    "import datefinder\n",
    "import string\n",
    "import pandas as pd\n",
    "from collections import Counter\n",
    "import matplotlib.pyplot as plt\n",
    "from wordcloud import WordCloud, STOPWORDS, ImageColorGenerator\n",
    "from textblob import TextBlob"
   ]
  },
  {
   "cell_type": "code",
   "execution_count": null,
   "metadata": {},
   "outputs": [],
   "source": [
    "## Journal.txt should be in this format:\n",
    "#########\n",
    "#Day 1\n",
    "#Date/time\n",
    "#Action: text here\n",
    "#Inspiration: text here\n",
    "#Why not:\n",
    "#\t1. Why not do it\n",
    "#\t\ta. Why yes do it\n",
    "#\t2. Why not do it\n",
    "#\t\ta. Why yes do it\n",
    "#Feelings:\n",
    "#text here\n",
    "#Day 2\n",
    "#Date/time\n",
    "#Action: text here\n",
    "#Inspiration: text here\n",
    "#Why not:\n",
    "#\t1. Why not do it\n",
    "#\t\ta. Why yes do it\n",
    "#\t2. Why not do it\n",
    "#\t\ta. Why yes do it\n",
    "#Feelings:\n",
    "#text here\n",
    "############"
   ]
  },
  {
   "cell_type": "code",
   "execution_count": null,
   "metadata": {},
   "outputs": [],
   "source": [
    "#Import journal into x, you will need to change the name of the file \"Journal1.txt\"\n",
    "x = \"Journal1.txt\"\n",
    "#Open text file in read ('r') mode and remove \\n (new line) indications\n",
    "y = open(x, 'r').read().replace('\\n', '')"
   ]
  },
  {
   "cell_type": "code",
   "execution_count": null,
   "metadata": {},
   "outputs": [],
   "source": [
    "#Split the journal by days\n",
    "Days=re.split('Day ',y)"
   ]
  },
  {
   "cell_type": "code",
   "execution_count": null,
   "metadata": {},
   "outputs": [],
   "source": [
    "#Allocate lists for parameters to fill\n",
    "Action=[None]*(len(Days)-1)\n",
    "Inspiration=[None]*(len(Days)-1)\n",
    "#list of why nots\n",
    "WN=[None]*(len(Days)-1)\n",
    "Feelings=[None]*(len(Days)-1)\n",
    "#number of why nots per day\n",
    "numWN=[None]*(len(Days)-1)\n",
    "\n",
    "#split text into their parameters\n",
    "for i in range(1,len(Days)):\n",
    "    Action[i-1]=re.split('Action: ',re.split('Inspiration',Days[i])[0])[1]\n",
    "    Inspiration[i-1]=re.split('Inspiration:',re.split('Why nots',Days[i])[0])[1]\n",
    "    WN[i-1]=re.split('Why not:',re.split('Feelings',Days[i])[0])[1]\n",
    "    Feelings[i-1]=re.split('Feelings:',Days[i])[1]\n",
    "    numWN[i-1]=WN[i-1].count('\\t')-2*WN[i-1].count('\\t\\t')"
   ]
  },
  {
   "cell_type": "code",
   "execution_count": null,
   "metadata": {},
   "outputs": [],
   "source": []
  },
  {
   "cell_type": "code",
   "execution_count": null,
   "metadata": {
    "scrolled": true
   },
   "outputs": [],
   "source": [
    "#Additional organization of WN and WY\n",
    "WN_list=[None]*(len(Days)-1)\n",
    "WNWY_list=[None]*(len(Days)-1)\n",
    "WY_list=[None]*(len(Days)-1)\n",
    "lets=[None]*(len(Days)-1)\n",
    "nxt=[None]*(len(Days)-1)"
   ]
  },
  {
   "cell_type": "code",
   "execution_count": null,
   "metadata": {},
   "outputs": [],
   "source": []
  },
  {
   "cell_type": "code",
   "execution_count": null,
   "metadata": {},
   "outputs": [],
   "source": [
    "for j in range(0,len(Days)-1):\n",
    "    WN_list[j]=[None]*numWN[j]\n",
    "    WNWY_list[j]=[None]*numWN[j]\n",
    "    WY_list[j]=[None]*numWN[j]\n",
    "    lets[j]=[None]*numWN[j]\n",
    "    for i in range(1,numWN[j]+1):\n",
    "        nxt[j]=i+1;\n",
    "        WNWY_list[j][i-1]=re.split('\\t%d. ' %nxt[j],re.split('\\t%d. ' %i,WN[j])[1])[0]\n",
    "        WN_list[j][i-1]=re.split('\\t',re.split('\\t%d. ' %nxt[j],re.split('\\t%d. ' %i,WN[j])[1])[0])[0]\n",
    "        \n",
    "    for i in range(1,numWN[j]+1):        \n",
    "        WY_list[j][i-1]=re.split('\\t\\ta. ', WNWY_list[j][i-1])[1]"
   ]
  },
  {
   "cell_type": "code",
   "execution_count": null,
   "metadata": {},
   "outputs": [],
   "source": [
    "list2=[Action, Inspiration, WN_list, WY_list, Feelings]"
   ]
  },
  {
   "cell_type": "code",
   "execution_count": null,
   "metadata": {},
   "outputs": [],
   "source": [
    "#Put entries into data frame\n",
    "df=pd.DataFrame(data=list2).transpose().rename(columns={0:'Action', 1:'Inspiration', 2:'No', 3:'Yes', 4:'Feelings'})"
   ]
  },
  {
   "cell_type": "code",
   "execution_count": null,
   "metadata": {},
   "outputs": [],
   "source": [
    "#Combine no's and yes into columns\n",
    "for i in range(0,len(df)):\n",
    "    df['No'][i]=' '.join(df['No'][i])\n",
    "    df['Yes'][i]=' '.join(df['Yes'][i])"
   ]
  },
  {
   "cell_type": "code",
   "execution_count": null,
   "metadata": {},
   "outputs": [],
   "source": [
    "#This section is specific to my journal entries, I was making sure the words one last talk \n",
    "#always went together as this is a title of a book I was reading\n",
    "Nos=' '.join(df['No']).lower().replace('one last talk', 'one_last_talk')\n",
    "Yes=' '.join(df['Yes']).lower().replace('one last talk', 'one_last_talk')\n",
    "Inspiration_all=df['Inspiration'].str.cat(sep=' ').lower().replace('one last talk', 'one_last_talk')\n",
    "Action_all=df['Action'].str.cat(sep=' ').lower().replace('one last talk', 'one_last_talk')\n",
    "Feelings_all=df['Feelings'].str.cat(sep=' ').lower().replace('one last talk', 'one_last_talk')"
   ]
  },
  {
   "cell_type": "code",
   "execution_count": null,
   "metadata": {},
   "outputs": [],
   "source": [
    "#You can enter stopwords here (words you want to exclude from the wordcloud) I've left a few as examples\n",
    "STOPWORDS.add('will')\n",
    "STOPWORDS.add('got')"
   ]
  },
  {
   "cell_type": "code",
   "execution_count": null,
   "metadata": {},
   "outputs": [],
   "source": [
    "#Action wordcloud\n",
    "wordcloud=WordCloud(background_color=\"white\",stopwords=STOPWORDS,max_words=50,width=600,height=400,colormap='winter').generate(Action_all)\n",
    "plt.imshow(wordcloud, interpolation='bilinear')\n",
    "plt.axis(\"off\")\n",
    "plt.show()"
   ]
  },
  {
   "cell_type": "code",
   "execution_count": null,
   "metadata": {},
   "outputs": [],
   "source": [
    "#Inspiration word cloud\n",
    "wordcloud=WordCloud(background_color=\"white\",stopwords=STOPWORDS,max_words=50,width=600,height=400).generate(Inspiration_all)\n",
    "plt.imshow(wordcloud, interpolation='bilinear')\n",
    "plt.axis(\"off\")\n",
    "plt.show()"
   ]
  },
  {
   "cell_type": "code",
   "execution_count": null,
   "metadata": {},
   "outputs": [],
   "source": [
    "#Why not word cloud\n",
    "wordcloud=WordCloud(background_color=\"white\",max_words=40,width=600,height=400,colormap='winter').generate(Nos)\n",
    "plt.imshow(wordcloud, interpolation='bilinear')\n",
    "plt.axis(\"off\")\n",
    "plt.show()"
   ]
  },
  {
   "cell_type": "code",
   "execution_count": null,
   "metadata": {},
   "outputs": [],
   "source": [
    "#Why yes word cloud\n",
    "wordcloud=WordCloud(background_color=\"white\",max_words=50,width=600,height=400).generate(Yes)\n",
    "plt.imshow(wordcloud, interpolation='bilinear')\n",
    "plt.axis(\"off\")\n",
    "plt.show()"
   ]
  },
  {
   "cell_type": "code",
   "execution_count": null,
   "metadata": {},
   "outputs": [],
   "source": [
    "#Feelings word cloud\n",
    "wordcloud=WordCloud(background_color=\"white\",max_words=50,width=600,height=400).generate(Feelings_all)\n",
    "plt.imshow(wordcloud, interpolation='bilinear')\n",
    "plt.axis(\"off\")\n",
    "plt.show()"
   ]
  },
  {
   "cell_type": "code",
   "execution_count": null,
   "metadata": {},
   "outputs": [],
   "source": [
    "#Polarity analysis\n",
    "#There wasn't really enough data to do this, but I've left it in the code in case somebody finds it useful\n",
    "polarity_feelings=[None]*len(Feelings)\n",
    "polarity_action=[None]*len(Feelings)\n",
    "polarity_inspiration=[None]*len(Feelings)\n",
    "polarity_yes=[None]*len(Feelings)\n",
    "polarity_nos=[None]*len(Feelings)\n",
    "for i in range(0,len(Feelings)):\n",
    "    polarity_feelings[i]=TextBlob(Feelings[i]).sentiment.polarity\n",
    "    polarity_action[i]=TextBlob(Action[i]).sentiment.polarity\n",
    "    polarity_inspiration[i]=TextBlob(Inspiration[i]).sentiment.polarity\n",
    "    polarity_yes[i]=TextBlob(df['Yes'][i]).sentiment.polarity\n",
    "    polarity_nos[i]=TextBlob(df['No'][i]).sentiment.polarity"
   ]
  },
  {
   "cell_type": "code",
   "execution_count": null,
   "metadata": {},
   "outputs": [],
   "source": [
    "plt.plot(polarity_feelings)"
   ]
  },
  {
   "cell_type": "code",
   "execution_count": null,
   "metadata": {},
   "outputs": [],
   "source": [
    "plt.plot(polarity_action)"
   ]
  },
  {
   "cell_type": "code",
   "execution_count": null,
   "metadata": {},
   "outputs": [],
   "source": [
    "plt.plot(polarity_inspiration)"
   ]
  },
  {
   "cell_type": "code",
   "execution_count": null,
   "metadata": {},
   "outputs": [],
   "source": [
    "plt.plot(polarity_yes)"
   ]
  },
  {
   "cell_type": "code",
   "execution_count": null,
   "metadata": {
    "scrolled": true
   },
   "outputs": [],
   "source": [
    "plt.plot(polarity_nos)"
   ]
  },
  {
   "cell_type": "code",
   "execution_count": null,
   "metadata": {},
   "outputs": [],
   "source": [
    "plt.plot(numWN)"
   ]
  },
  {
   "cell_type": "code",
   "execution_count": null,
   "metadata": {},
   "outputs": [],
   "source": [
    "#You can also look at the length of each section of each entry. Since feelings was a free-form section this made the most sense.\n",
    "#Again, not really enough data to draw any conclusions but I've left it here in case.\n",
    "lenfeel=[None]*len(Feelings)\n",
    "for i in range(0,len(Feelings)):\n",
    "    lenfeel[i]=len(Feelings[i])"
   ]
  },
  {
   "cell_type": "code",
   "execution_count": null,
   "metadata": {},
   "outputs": [],
   "source": [
    "plt.plot(lenfeel)"
   ]
  },
  {
   "cell_type": "code",
   "execution_count": null,
   "metadata": {},
   "outputs": [],
   "source": []
  }
 ],
 "metadata": {
  "kernelspec": {
   "display_name": "Python 3",
   "language": "python",
   "name": "python3"
  },
  "language_info": {
   "codemirror_mode": {
    "name": "ipython",
    "version": 3
   },
   "file_extension": ".py",
   "mimetype": "text/x-python",
   "name": "python",
   "nbconvert_exporter": "python",
   "pygments_lexer": "ipython3",
   "version": "3.7.6"
  }
 },
 "nbformat": 4,
 "nbformat_minor": 4
}
